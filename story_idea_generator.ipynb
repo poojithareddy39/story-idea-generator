{
  "nbformat": 4,
  "nbformat_minor": 0,
  "metadata": {
    "colab": {
      "provenance": [],
      "authorship_tag": "ABX9TyPrzI+Dn9JbqhNAaY0q/3EM",
      "include_colab_link": true
    },
    "kernelspec": {
      "name": "python3",
      "display_name": "Python 3"
    },
    "language_info": {
      "name": "python"
    }
  },
  "cells": [
    {
      "cell_type": "markdown",
      "metadata": {
        "id": "view-in-github",
        "colab_type": "text"
      },
      "source": [
        "<a href=\"https://colab.research.google.com/github/poojithareddy39/story-idea-generator/blob/main/story_idea_generator.ipynb\" target=\"_parent\"><img src=\"https://colab.research.google.com/assets/colab-badge.svg\" alt=\"Open In Colab\"/></a>"
      ]
    },
    {
      "cell_type": "code",
      "source": [
        "import random\n",
        "\n",
        "genres = [\"Fantasy\", \"Science Fiction\", \"Mystery\", \"Romance\", \"Horror\", \"Adventure\"]\n",
        "themes = [\"Friendship\", \"Betrayal\", \"Courage\", \"Survival\", \"Love\", \"Identity\"]\n",
        "character_types = [\"a brave knight\", \"a curious scientist\", \"a troubled detective\", \"an ambitious artist\", \"a lost soul\", \"a resourceful thief\"]\n",
        "\n",
        "def generate_story_idea(genre, theme, character_type):\n",
        "    prompt = (f\"In a {genre} world themed around {theme}, \"\n",
        "              f\"the story unfolds about {character_type} who must confront an unexpected challenge \"\n",
        "              f\"that could change everything. How do they navigate this journey?\")\n",
        "    return prompt\n",
        "\n",
        "def story_prompt_generator():\n",
        "\n",
        "    print(\"Welcome to the Story Idea Generator!\")\n",
        "\n",
        "    genre = input(f\"Choose a genre from the following: {', '.join(genres)}: \")\n",
        "    if genre not in genres:\n",
        "        print(\"Invalid genre chosen. Please select from the list.\")\n",
        "        return\n",
        "\n",
        "    theme = input(f\"Choose a theme from the following: {', '.join(themes)}: \")\n",
        "    if theme not in themes:\n",
        "        print(\"Invalid theme chosen. Please select from the list.\")\n",
        "        return\n",
        "\n",
        "    character_type = input(f\"Choose a character type from the following: {', '.join(character_types)}: \")\n",
        "    if character_type not in character_types:\n",
        "        print(\"Invalid character type chosen. Please select from the list.\")\n",
        "        return\n",
        "\n",
        "\n",
        "    story_idea = generate_story_idea(genre, theme, character_type)\n",
        "    print(\"\\nHere’s your story idea:\")\n",
        "    print(story_idea)\n",
        "\n",
        "story_prompt_generator()\n"
      ],
      "metadata": {
        "colab": {
          "base_uri": "https://localhost:8080/"
        },
        "id": "xXqeWscTWfdl",
        "outputId": "3ace6fb8-ed0c-4dd9-9dfc-1877dd87722c"
      },
      "execution_count": null,
      "outputs": [
        {
          "output_type": "stream",
          "name": "stdout",
          "text": [
            "Welcome to the Story Idea Generator!\n",
            "Choose a genre from the following: Fantasy, Science Fiction, Mystery, Romance, Horror, Adventure: Fantasy\n",
            "Choose a theme from the following: Friendship, Betrayal, Courage, Survival, Love, Identity: Identity\n",
            "Choose a character type from the following: a brave knight, a curious scientist, a troubled detective, an ambitious artist, a lost soul, a resourceful thief: a lost soul\n",
            "\n",
            "Here’s your story idea:\n",
            "In a Fantasy world themed around Identity, the story unfolds about a lost soul who must confront an unexpected challenge that could change everything. How do they navigate this journey?\n"
          ]
        }
      ]
    }
  ]
}